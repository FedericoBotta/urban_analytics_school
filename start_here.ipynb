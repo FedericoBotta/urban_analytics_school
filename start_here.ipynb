{
 "cells": [
  {
   "cell_type": "markdown",
   "id": "cbed00fe",
   "metadata": {},
   "source": [
    "# Importing libraries"
   ]
  },
  {
   "cell_type": "code",
   "execution_count": null,
   "id": "26e34f84",
   "metadata": {},
   "outputs": [],
   "source": [
    "# math\n",
    "import numpy as np\n",
    "\n",
    "# plot\n",
    "import matplotlib.pyplot as plt\n",
    "\n",
    "# data\n",
    "import pandas as pd\n",
    "\n",
    "# networks\n",
    "import networkx as nx\n",
    "import powerlaw\n",
    "\n",
    "# geo\n",
    "import shapely\n",
    "import geopandas\n",
    "import osmnx\n",
    "import pyrosm\n",
    "import spaghetti\n",
    "import openrouteservice\n",
    "\n",
    "# mobility \n",
    "import skmob"
   ]
  },
  {
   "cell_type": "markdown",
   "id": "220fd600",
   "metadata": {},
   "source": [
    "# Version"
   ]
  },
  {
   "cell_type": "code",
   "execution_count": null,
   "id": "9f8dd9c6",
   "metadata": {},
   "outputs": [],
   "source": [
    "print(np.__version__)\n",
    "print(pd.__version__)\n",
    "print(nx.__version__)\n",
    "print(powerlaw.__version__)\n",
    "print(shapely.__version__)\n",
    "print(geopandas.__version__)\n",
    "print(osmnx.__version__)\n",
    "print(spaghetti.__version__)\n",
    "print(openrouteservice.__version__)"
   ]
  }
 ],
 "metadata": {
  "kernelspec": {
   "display_name": "Python 3",
   "language": "python",
   "name": "python3"
  },
  "language_info": {
   "codemirror_mode": {
    "name": "ipython",
    "version": 3
   },
   "file_extension": ".py",
   "mimetype": "text/x-python",
   "name": "python",
   "nbconvert_exporter": "python",
   "pygments_lexer": "ipython3",
   "version": "3.9.5"
  }
 },
 "nbformat": 4,
 "nbformat_minor": 5
}
